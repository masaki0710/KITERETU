{
  "nbformat": 4,
  "nbformat_minor": 0,
  "metadata": {
    "colab": {
      "provenance": [],
      "authorship_tag": "ABX9TyPrD/P7i0lXS/PyZ8G6Jd5T",
      "include_colab_link": true
    },
    "kernelspec": {
      "name": "python3",
      "display_name": "Python 3"
    },
    "language_info": {
      "name": "python"
    }
  },
  "cells": [
    {
      "cell_type": "markdown",
      "metadata": {
        "id": "view-in-github",
        "colab_type": "text"
      },
      "source": [
        "<a href=\"https://colab.research.google.com/github/masaki0710/KITERETU/blob/main/KITERETU_Unit_6_NameGenerativeAI.ipynb\" target=\"_parent\"><img src=\"https://colab.research.google.com/assets/colab-badge.svg\" alt=\"Open In Colab\"/></a>"
      ]
    },
    {
      "cell_type": "code",
      "execution_count": 3,
      "metadata": {
        "colab": {
          "base_uri": "https://localhost:8080/"
        },
        "id": "aJhjksslRYb4",
        "outputId": "c90831b4-f2d5-48eb-8fba-5e6f5ef72bd7"
      },
      "outputs": [
        {
          "output_type": "stream",
          "name": "stdout",
          "text": [
            "Mounted at /content/drive\n"
          ]
        }
      ],
      "source": [
        "from google.colab import drive\n",
        "drive.mount('/content/drive')"
      ]
    },
    {
      "cell_type": "code",
      "source": [
        "!mkdir -p /content/drive/MyDrive/KITERETU"
      ],
      "metadata": {
        "id": "BPnuk5kzReYw"
      },
      "execution_count": 4,
      "outputs": []
    },
    {
      "cell_type": "code",
      "source": [
        "!curl -o /content/drive/MyDrive/KITERETU/text8ja42.txt https://storage.googleapis.com/nlp_youwht/text8/text8ja42.txt"
      ],
      "metadata": {
        "colab": {
          "base_uri": "https://localhost:8080/"
        },
        "id": "b7hWr3hHRpNX",
        "outputId": "c8363c4e-f629-4b94-880b-b29c8b39d4ff"
      },
      "execution_count": 5,
      "outputs": [
        {
          "output_type": "stream",
          "name": "stdout",
          "text": [
            "  % Total    % Received % Xferd  Average Speed   Time    Time     Time  Current\n",
            "                                 Dload  Upload   Total   Spent    Left  Speed\n",
            "100 95.3M  100 95.3M    0     0  16.2M      0  0:00:05  0:00:05 --:--:-- 16.2M\n"
          ]
        }
      ]
    },
    {
      "cell_type": "code",
      "source": [
        "!head -c 80 \"/content/drive/MyDrive/KITERETU/text8ja42.txt\""
      ],
      "metadata": {
        "colab": {
          "base_uri": "https://localhost:8080/"
        },
        "id": "cDtZ9pDVRvfA",
        "outputId": "b107160b-b376-4ee4-e15c-cbef04711c21"
      },
      "execution_count": 6,
      "outputs": [
        {
          "output_type": "stream",
          "name": "stdout",
          "text": [
            "第8回ナショナル・ボード・オブ・レビュー賞は、1936年12月1"
          ]
        }
      ]
    },
    {
      "cell_type": "code",
      "source": [
        "%%time\n",
        "import codecs\n",
        "input_file_path = \"/content/drive/MyDrive/KITERETU/text8ja42.txt\"\n",
        "output_file_path = \"/content/drive/MyDrive/KITERETU/tmp_1kugiri.txt\"\n",
        "\n",
        "with codecs.open(input_file_path, \"r\", \"utf-8\") as f:\n",
        "  for line in f.readlines():\n",
        "    # 文字列を1文字ごとのリストに変える\n",
        "    chars = [c for c in line if c != u' ']\n",
        "    with codecs.open(output_file_path, \"a\", \"utf-8\") as new_f:\n",
        "      # リストの文字を半角スペースでつなげた文字列にする\n",
        "      new_f.write(u' '.join(chars))"
      ],
      "metadata": {
        "colab": {
          "base_uri": "https://localhost:8080/"
        },
        "id": "PquwjRzHSOY8",
        "outputId": "587eb40b-34a2-4fa6-ae06-607db872e943"
      },
      "execution_count": 7,
      "outputs": [
        {
          "output_type": "stream",
          "name": "stdout",
          "text": [
            "CPU times: user 7.35 s, sys: 3.29 s, total: 10.6 s\n",
            "Wall time: 15.5 s\n"
          ]
        }
      ]
    },
    {
      "cell_type": "code",
      "source": [
        "!head -c 80 \"/content/drive/MyDrive/KITERETU/tmp_1kugiri.txt\""
      ],
      "metadata": {
        "colab": {
          "base_uri": "https://localhost:8080/"
        },
        "id": "_fDcr-4NTlWW",
        "outputId": "d0d7471a-79f8-4fa7-d696-083d813b7919"
      },
      "execution_count": 8,
      "outputs": [
        {
          "output_type": "stream",
          "name": "stdout",
          "text": [
            "第 8 回 ナ シ ョ ナ ル ・ ボ ー ド ・ オ ブ ・ レ ビ ュ ー "
          ]
        }
      ]
    },
    {
      "cell_type": "code",
      "source": [
        "from gensim.models import word2vec\n",
        "\n",
        "# 保存したモデルファイルの読み込み\n",
        "model = word2vec.Word2Vec.load(\"/content/drive/MyDrive/KITERETU/c2v.model\")\n",
        "\n",
        "# 出てきたモデルの確認\n",
        "out = model.wv.most_similar(positive = [u'山'], topn=7)\n",
        "print(out)\n",
        "out = model.wv.most_similar(positive = [u'三'], topn=7)\n",
        "print(out)\n",
        "out = model.wv.most_similar(positive = [u'学'], topn=7)\n",
        "print(out)\n",
        "out = model.wv.most_similar(positive = [u'電'], topn=7)\n",
        "print(out)\n",
        "out = model.wv.most_similar(positive = [u'親'], topn=7)\n",
        "print(out)"
      ],
      "metadata": {
        "id": "tr3jOYyRVLOd",
        "colab": {
          "base_uri": "https://localhost:8080/"
        },
        "outputId": "5576e61a-8f62-4fa4-ead6-7f2beb73e00b"
      },
      "execution_count": 9,
      "outputs": [
        {
          "output_type": "stream",
          "name": "stdout",
          "text": [
            "[('岳', 0.6944587826728821), ('津', 0.6815115809440613), ('里', 0.678470253944397), ('梨', 0.6728062033653259), ('坂', 0.6719692945480347), ('麓', 0.6655969619750977), ('川', 0.6602277159690857)]\n",
            "[('五', 0.8788037896156311), ('四', 0.8738046884536743), ('七', 0.8365176916122437), ('六', 0.8163591623306274), ('八', 0.7962428331375122), ('二', 0.7693887948989868), ('十', 0.7317737340927124)]\n",
            "[('學', 0.5492937564849854), ('塾', 0.5471721291542053), ('諭', 0.5282025337219238), ('師', 0.4948957860469818), ('科', 0.48711711168289185), ('偉', 0.47076934576034546), ('育', 0.46699628233909607)]\n",
            "[('磁', 0.6808310151100159), ('蒸', 0.6494373679161072), ('炉', 0.6224275827407837), ('軌', 0.533543050289154), ('波', 0.504381000995636), ('沸', 0.4913666844367981), ('荷', 0.49010205268859863)]\n",
            "[('父', 0.8192195296287537), ('戚', 0.7947410345077515), ('母', 0.7915927171707153), ('娘', 0.7869952321052551), ('兄', 0.7852434515953064), ('妻', 0.7648090720176697), ('姪', 0.7296454906463623)]\n"
          ]
        }
      ]
    },
    {
      "cell_type": "code",
      "source": [
        "%%time\n",
        "import logging\n",
        "from gensim.models import word2vec\n",
        "\n",
        "logging.basicConfig(format='%(asctime)s : %(levelname)s : %(message)s', level=logging.INFO)\n",
        "\n",
        "# 1文字ごとに区切ったテキストデータを指定する\n",
        "sentences = word2vec.Text8Corpus(\"/content/drive/MyDrive/KITERETU/tmp_1kugiri.txt\")\n",
        "\n",
        "# Word2Vecの学習実施\n",
        "model = word2vec.Word2Vec(sentences,\n",
        "                          vector_size = 60,\n",
        "                          min_count = 5,\n",
        "                          window = 30,\n",
        "                          epochs = 10)\n",
        "\n",
        "# できたモデルを保存する\n",
        "model.save(\"/content/drive/MyDrive/KITERETU/c2v.model\")"
      ],
      "metadata": {
        "id": "gfWZCPjkjqI5"
      },
      "execution_count": null,
      "outputs": []
    },
    {
      "cell_type": "code",
      "source": [
        "from gensim.models import word2vec\n",
        "\n",
        "def make_name(model, char1, char2):\n",
        "  out = model.wv.most_similar(positive = [char1, char2], topn = 7)\n",
        "  print(char1 + \"+\" + char2)\n",
        "  print(out)\n",
        "\n",
        "# 保存したモデルファイルの読み込み\n",
        "model = word2vec.Word2Vec.load(\"/content/drive/MyDrive/KITERETU/c2v.model\")\n",
        "\n",
        "make_name(model, '雅', \"美\")"
      ],
      "metadata": {
        "id": "GqvKQ2gVljZw"
      },
      "execution_count": null,
      "outputs": []
    }
  ]
}