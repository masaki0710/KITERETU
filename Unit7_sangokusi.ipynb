{
  "nbformat": 4,
  "nbformat_minor": 0,
  "metadata": {
    "colab": {
      "provenance": [],
      "authorship_tag": "ABX9TyM1Bu4I/MYcVFeAumRpdvQ0",
      "include_colab_link": true
    },
    "kernelspec": {
      "name": "python3",
      "display_name": "Python 3"
    },
    "language_info": {
      "name": "python"
    }
  },
  "cells": [
    {
      "cell_type": "markdown",
      "metadata": {
        "id": "view-in-github",
        "colab_type": "text"
      },
      "source": [
        "<a href=\"https://colab.research.google.com/github/masaki0710/KITERETU/blob/main/Unit7_sangokusi.ipynb\" target=\"_parent\"><img src=\"https://colab.research.google.com/assets/colab-badge.svg\" alt=\"Open In Colab\"/></a>"
      ]
    },
    {
      "cell_type": "code",
      "execution_count": 1,
      "metadata": {
        "colab": {
          "base_uri": "https://localhost:8080/"
        },
        "id": "CWejqWWgKCii",
        "outputId": "cbd4a935-b841-4457-abbd-dcda3a70689c"
      },
      "outputs": [
        {
          "output_type": "stream",
          "name": "stdout",
          "text": [
            "Collecting janome\n",
            "  Downloading Janome-0.5.0-py2.py3-none-any.whl.metadata (2.6 kB)\n",
            "Downloading Janome-0.5.0-py2.py3-none-any.whl (19.7 MB)\n",
            "\u001b[2K   \u001b[90m━━━━━━━━━━━━━━━━━━━━━━━━━━━━━━━━━━━━━━━━\u001b[0m \u001b[32m19.7/19.7 MB\u001b[0m \u001b[31m28.8 MB/s\u001b[0m eta \u001b[36m0:00:00\u001b[0m\n",
            "\u001b[?25hInstalling collected packages: janome\n",
            "Successfully installed janome-0.5.0\n"
          ]
        }
      ],
      "source": [
        "!pip install janome"
      ]
    },
    {
      "cell_type": "code",
      "source": [
        "from janome.tokenizer import Tokenizer\n",
        "\n",
        "tokenizer = Tokenizer()\n",
        "\n",
        "# 名詞、動詞原形、形容詞を配列で抽出する関数\n",
        "def extract_words(text):\n",
        "  tokens = tokenizer.tokenize(text)\n",
        "  return [token.base_form for token in tokens\n",
        "          if token.part_of_speech.split(',')[0] in ['名詞', '動詞', '形容詞']]\n",
        "\n",
        "# 例文で結果を確かめる\n",
        "sampletext = u\"劉備と関羽と張飛の三人は桃園で義兄弟の契りを結んだ\"\n",
        "print(extract_words(sampletext))"
      ],
      "metadata": {
        "colab": {
          "base_uri": "https://localhost:8080/"
        },
        "id": "h-yRTJCLKPG5",
        "outputId": "48e56489-9cf3-4ae4-a00a-f568314085d5"
      },
      "execution_count": 2,
      "outputs": [
        {
          "output_type": "stream",
          "name": "stdout",
          "text": [
            "['劉', '備', '関', '羽', '張', '飛', '三', '人', '桃園', '義兄弟', '契り', '結ぶ']\n"
          ]
        }
      ]
    },
    {
      "cell_type": "code",
      "source": [
        "from google.colab import drive\n",
        "drive.mount('/content/drive')"
      ],
      "metadata": {
        "colab": {
          "base_uri": "https://localhost:8080/"
        },
        "id": "rd_0TQHMLIMn",
        "outputId": "ac8add8e-dbf2-42d9-b82b-959a4cc01595"
      },
      "execution_count": 3,
      "outputs": [
        {
          "output_type": "stream",
          "name": "stdout",
          "text": [
            "Mounted at /content/drive\n"
          ]
        }
      ]
    },
    {
      "cell_type": "code",
      "source": [
        "!mkdir -p /content/drive/MyDrive/KITERETU\n",
        "\n",
        "!curl -o /content/drive/MyDrive/KITERETU/sangokusi_jinbutu_list.csv https://storage.googleapis.com/nlp_youwht/san/sangokusi_jinbutu_list.csv\n",
        "\n",
        "!head \"/content/drive/MyDrive/KITERETU/sangokusi_jinbutu_list.csv\""
      ],
      "metadata": {
        "colab": {
          "base_uri": "https://localhost:8080/"
        },
        "id": "DuV4Xmo4LnHo",
        "outputId": "0f1ec4fe-1e12-490e-df5d-041af8ef7e63"
      },
      "execution_count": 20,
      "outputs": [
        {
          "output_type": "stream",
          "name": "stdout",
          "text": [
            "  % Total    % Received % Xferd  Average Speed   Time    Time     Time  Current\n",
            "                                 Dload  Upload   Total   Spent    Left  Speed\n",
            "100 27008  100 27008    0     0  64479      0 --:--:-- --:--:-- --:--:-- 64458\n",
            "阿会喃\n",
            "阿貴\n",
            "阿羅槃\n",
            "阿騖\n",
            "逢紀\n",
            "伊夷模\n",
            "伊健妓妾\n",
            "伊声耆\n",
            "伊籍\n",
            "位宮\n"
          ]
        }
      ]
    },
    {
      "cell_type": "code",
      "source": [
        "# 人物の名前が列挙してあるテキストをリスト形式で読み込む\n",
        "import codecs\n",
        "def getKeyWordList(input_file_path):\n",
        "  input_file = codecs.open(input_file_path, 'r', 'utf-8')\n",
        "  # ファイルの読み込み => 各行ごとが格納されたリストになる\n",
        "  line_list = input_file.readlines()\n",
        "  # 改行コードを消去する strip() をそれぞれに施す\n",
        "  return [line.strip() for line in line_list]\n",
        "\n",
        "keyword_list = getKeyWordList('/content/drive/MyDrive/KITERETU/sangokusi_jinbutu_list.csv')\n",
        "\n",
        "userdict_str = \"\"\n",
        "# コストや品詞の設定などを行い、ユーザ辞書形式にする\n",
        "for keyword in keyword_list:\n",
        "  # userdict_one_str = keyword + \",-1,-1,-5000,名詞,一般,*,*,*,*,\" + keyword + \",*,*\"\n",
        "  userdict_one_str = f\"{keyword},-1,-1,5000,名詞,固有名詞,人名,一般,*,*,{keyword},*,*\"\n",
        "  userdict_str += userdict_one_str + \"\\n\"\n",
        "\n",
        "# 作成したユーザ辞書形式をcsvで保存しておく\n",
        "with open(\"/content/drive/MyDrive/KITERETU/sangokusi_userdic.csv\", \"w\", encoding=\"utf8\") as f:\n",
        "  f.write(userdict_str)"
      ],
      "metadata": {
        "id": "Wi9QEYxkLzHM"
      },
      "execution_count": 33,
      "outputs": []
    },
    {
      "cell_type": "code",
      "source": [
        "from janome.tokenizer import Tokenizer\n",
        "\n",
        "tokenizer = Tokenizer(\"/content/drive/MyDrive/KITERETU/sangokusi_userdic.csv\", udic_enc=\"utf8\")\n",
        "\n",
        "def extract_words(text):\n",
        "  tokens = tokenizer.tokenize(text)\n",
        "  return [token.base_form for token in tokens\n",
        "          if token.part_of_speech.split(',')[0] in ['名詞', '動詞', '形容詞']]\n",
        "\n",
        "# 例文で結果を確かめる\n",
        "sampletext = u\"劉備と関羽と張飛の三人は桃園で義兄弟の契りを結んだ\"\n",
        "print(extract_words(sampletext))"
      ],
      "metadata": {
        "colab": {
          "base_uri": "https://localhost:8080/"
        },
        "id": "Mi_n97b7OUqz",
        "outputId": "510db0a8-1956-461c-d14d-e7a38d1dddb0"
      },
      "execution_count": 34,
      "outputs": [
        {
          "output_type": "stream",
          "name": "stdout",
          "text": [
            "['劉備', '関羽', '張飛', 'の', '三', '人', '桃園', '義兄弟', '契り', '結ぶ']\n"
          ]
        }
      ]
    },
    {
      "cell_type": "code",
      "source": [
        "!curl -o /content/drive/MyDrive/KITERETU/sangokusi_azana_list.csv https://storage.googleapis.com/nlp_youwht/san/sangokusi_azana_list.csv\n",
        "\n",
        "!head \"/content/drive/MyDrive/KITERETU/sangokusi_azana_list.csv\""
      ],
      "metadata": {
        "colab": {
          "base_uri": "https://localhost:8080/"
        },
        "id": "N1HcVGxYPoWK",
        "outputId": "3b72d0c6-0db8-4bac-fa31-8e9b7d4078d6"
      },
      "execution_count": 36,
      "outputs": [
        {
          "output_type": "stream",
          "name": "stdout",
          "text": [
            "  % Total    % Received % Xferd  Average Speed   Time    Time     Time  Current\n",
            "                                 Dload  Upload   Total   Spent    Left  Speed\n",
            "100  3202  100  3202    0     0   8251      0 --:--:-- --:--:-- --:--:--  8252\n",
            "安国,関興\n",
            "安世,司馬炎\n",
            "威公,楊儀\n",
            "異度,蒯越\n",
            "雲長,関羽\n",
            "益徳,張飛\n",
            "演長,郭攸之\n",
            "漢升,黄忠\n",
            "漢瑜,陳珪\n",
            "機伯,伊籍\n"
          ]
        }
      ]
    },
    {
      "cell_type": "code",
      "source": [],
      "metadata": {
        "id": "GDI6IdKVRzEP"
      },
      "execution_count": null,
      "outputs": []
    }
  ]
}